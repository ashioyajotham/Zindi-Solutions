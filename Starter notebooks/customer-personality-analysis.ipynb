{
 "cells": [
  {
   "cell_type": "code",
   "execution_count": 1,
   "id": "bdfb8ad4",
   "metadata": {
    "_cell_guid": "b1076dfc-b9ad-4769-8c92-a6c4dae69d19",
    "_uuid": "8f2839f25d086af736a60e9eeb907d3b93b6e0e5",
    "execution": {
     "iopub.execute_input": "2021-12-02T05:41:22.487632Z",
     "iopub.status.busy": "2021-12-02T05:41:22.486443Z",
     "iopub.status.idle": "2021-12-02T05:41:23.405690Z",
     "shell.execute_reply": "2021-12-02T05:41:23.404841Z",
     "shell.execute_reply.started": "2021-12-02T04:18:06.506863Z"
    },
    "papermill": {
     "duration": 0.95092,
     "end_time": "2021-12-02T05:41:23.405871",
     "exception": false,
     "start_time": "2021-12-02T05:41:22.454951",
     "status": "completed"
    },
    "tags": []
   },
   "outputs": [],
   "source": [
    "import numpy as np # linear algebra\n",
    "import pandas as pd # data processing, CSV file I/O (e.g. pd.read_csv)\n",
    "import matplotlib.pyplot as plt\n",
    "import seaborn as sns"
   ]
  },
  {
   "cell_type": "markdown",
   "id": "49dedf8a",
   "metadata": {
    "papermill": {
     "duration": 0.02547,
     "end_time": "2021-12-02T05:41:23.456726",
     "exception": false,
     "start_time": "2021-12-02T05:41:23.431256",
     "status": "completed"
    },
    "tags": []
   },
   "source": [
    "# Data EDA & preparation\n",
    "\n",
    "Let's start by exploring values related to customers, according with the variables descriptions the attributed related to customers are \n",
    "- ID: Customer's unique identifier\n",
    "- Year_Birth: Customer's birth year\n",
    "- Education: Customer's education level\n",
    "- Marital_Status: Customer's marital status\n",
    "- Income: Customer's yearly household income\n",
    "- Kidhome: Number of children in customer's household\n",
    "- Teenhome: Number of teenagers in customer's household\n",
    "- Dt_Customer: Date of customer's enrollment with the company\n",
    "- Recency: Number of days since customer's last purchase\n",
    "- Complain: 1 if customer complained in the last 2 years, 0 otherwise\n",
    "\n",
    "What I'd like to find insights that lead us to a comprehension of the data. That is, find customers characteristics.\n",
    "\n",
    "I use to start my explorations on dates and amounts because, under my experience, there is always easy-to-find extream values."
   ]
  },
  {
   "cell_type": "code",
   "execution_count": 2,
   "id": "d0d35179",
   "metadata": {
    "execution": {
     "iopub.execute_input": "2021-12-02T05:41:23.512129Z",
     "iopub.status.busy": "2021-12-02T05:41:23.511084Z",
     "iopub.status.idle": "2021-12-02T05:41:23.583507Z",
     "shell.execute_reply": "2021-12-02T05:41:23.584017Z",
     "shell.execute_reply.started": "2021-12-02T04:18:06.680111Z"
    },
    "papermill": {
     "duration": 0.102187,
     "end_time": "2021-12-02T05:41:23.584213",
     "exception": false,
     "start_time": "2021-12-02T05:41:23.482026",
     "status": "completed"
    },
    "tags": []
   },
   "outputs": [
    {
     "data": {
      "text/html": [
       "<div>\n",
       "<style scoped>\n",
       "    .dataframe tbody tr th:only-of-type {\n",
       "        vertical-align: middle;\n",
       "    }\n",
       "\n",
       "    .dataframe tbody tr th {\n",
       "        vertical-align: top;\n",
       "    }\n",
       "\n",
       "    .dataframe thead th {\n",
       "        text-align: right;\n",
       "    }\n",
       "</style>\n",
       "<table border=\"1\" class=\"dataframe\">\n",
       "  <thead>\n",
       "    <tr style=\"text-align: right;\">\n",
       "      <th></th>\n",
       "      <th>ID</th>\n",
       "      <th>Year_Birth</th>\n",
       "      <th>Education</th>\n",
       "      <th>Marital_Status</th>\n",
       "      <th>Income</th>\n",
       "      <th>Kidhome</th>\n",
       "      <th>Teenhome</th>\n",
       "      <th>Dt_Customer</th>\n",
       "      <th>Recency</th>\n",
       "      <th>MntWines</th>\n",
       "      <th>...</th>\n",
       "      <th>NumWebVisitsMonth</th>\n",
       "      <th>AcceptedCmp3</th>\n",
       "      <th>AcceptedCmp4</th>\n",
       "      <th>AcceptedCmp5</th>\n",
       "      <th>AcceptedCmp1</th>\n",
       "      <th>AcceptedCmp2</th>\n",
       "      <th>Complain</th>\n",
       "      <th>Z_CostContact</th>\n",
       "      <th>Z_Revenue</th>\n",
       "      <th>Response</th>\n",
       "    </tr>\n",
       "  </thead>\n",
       "  <tbody>\n",
       "    <tr>\n",
       "      <th>0</th>\n",
       "      <td>5524</td>\n",
       "      <td>1957</td>\n",
       "      <td>Graduation</td>\n",
       "      <td>Single</td>\n",
       "      <td>58138.0</td>\n",
       "      <td>0</td>\n",
       "      <td>0</td>\n",
       "      <td>2012-04-09</td>\n",
       "      <td>58</td>\n",
       "      <td>635</td>\n",
       "      <td>...</td>\n",
       "      <td>7</td>\n",
       "      <td>0</td>\n",
       "      <td>0</td>\n",
       "      <td>0</td>\n",
       "      <td>0</td>\n",
       "      <td>0</td>\n",
       "      <td>0</td>\n",
       "      <td>3</td>\n",
       "      <td>11</td>\n",
       "      <td>1</td>\n",
       "    </tr>\n",
       "    <tr>\n",
       "      <th>1</th>\n",
       "      <td>2174</td>\n",
       "      <td>1954</td>\n",
       "      <td>Graduation</td>\n",
       "      <td>Single</td>\n",
       "      <td>46344.0</td>\n",
       "      <td>1</td>\n",
       "      <td>1</td>\n",
       "      <td>2014-08-03</td>\n",
       "      <td>38</td>\n",
       "      <td>11</td>\n",
       "      <td>...</td>\n",
       "      <td>5</td>\n",
       "      <td>0</td>\n",
       "      <td>0</td>\n",
       "      <td>0</td>\n",
       "      <td>0</td>\n",
       "      <td>0</td>\n",
       "      <td>0</td>\n",
       "      <td>3</td>\n",
       "      <td>11</td>\n",
       "      <td>0</td>\n",
       "    </tr>\n",
       "    <tr>\n",
       "      <th>2</th>\n",
       "      <td>4141</td>\n",
       "      <td>1965</td>\n",
       "      <td>Graduation</td>\n",
       "      <td>Together</td>\n",
       "      <td>71613.0</td>\n",
       "      <td>0</td>\n",
       "      <td>0</td>\n",
       "      <td>2013-08-21</td>\n",
       "      <td>26</td>\n",
       "      <td>426</td>\n",
       "      <td>...</td>\n",
       "      <td>4</td>\n",
       "      <td>0</td>\n",
       "      <td>0</td>\n",
       "      <td>0</td>\n",
       "      <td>0</td>\n",
       "      <td>0</td>\n",
       "      <td>0</td>\n",
       "      <td>3</td>\n",
       "      <td>11</td>\n",
       "      <td>0</td>\n",
       "    </tr>\n",
       "    <tr>\n",
       "      <th>3</th>\n",
       "      <td>6182</td>\n",
       "      <td>1984</td>\n",
       "      <td>Graduation</td>\n",
       "      <td>Together</td>\n",
       "      <td>26646.0</td>\n",
       "      <td>1</td>\n",
       "      <td>0</td>\n",
       "      <td>2014-10-02</td>\n",
       "      <td>26</td>\n",
       "      <td>11</td>\n",
       "      <td>...</td>\n",
       "      <td>6</td>\n",
       "      <td>0</td>\n",
       "      <td>0</td>\n",
       "      <td>0</td>\n",
       "      <td>0</td>\n",
       "      <td>0</td>\n",
       "      <td>0</td>\n",
       "      <td>3</td>\n",
       "      <td>11</td>\n",
       "      <td>0</td>\n",
       "    </tr>\n",
       "    <tr>\n",
       "      <th>4</th>\n",
       "      <td>5324</td>\n",
       "      <td>1981</td>\n",
       "      <td>PhD</td>\n",
       "      <td>Married</td>\n",
       "      <td>58293.0</td>\n",
       "      <td>1</td>\n",
       "      <td>0</td>\n",
       "      <td>2014-01-19</td>\n",
       "      <td>94</td>\n",
       "      <td>173</td>\n",
       "      <td>...</td>\n",
       "      <td>5</td>\n",
       "      <td>0</td>\n",
       "      <td>0</td>\n",
       "      <td>0</td>\n",
       "      <td>0</td>\n",
       "      <td>0</td>\n",
       "      <td>0</td>\n",
       "      <td>3</td>\n",
       "      <td>11</td>\n",
       "      <td>0</td>\n",
       "    </tr>\n",
       "  </tbody>\n",
       "</table>\n",
       "<p>5 rows × 29 columns</p>\n",
       "</div>"
      ],
      "text/plain": [
       "     ID  Year_Birth   Education Marital_Status   Income  Kidhome  Teenhome  \\\n",
       "0  5524        1957  Graduation         Single  58138.0        0         0   \n",
       "1  2174        1954  Graduation         Single  46344.0        1         1   \n",
       "2  4141        1965  Graduation       Together  71613.0        0         0   \n",
       "3  6182        1984  Graduation       Together  26646.0        1         0   \n",
       "4  5324        1981         PhD        Married  58293.0        1         0   \n",
       "\n",
       "  Dt_Customer  Recency  MntWines  ...  NumWebVisitsMonth  AcceptedCmp3  \\\n",
       "0  2012-04-09       58       635  ...                  7             0   \n",
       "1  2014-08-03       38        11  ...                  5             0   \n",
       "2  2013-08-21       26       426  ...                  4             0   \n",
       "3  2014-10-02       26        11  ...                  6             0   \n",
       "4  2014-01-19       94       173  ...                  5             0   \n",
       "\n",
       "   AcceptedCmp4  AcceptedCmp5  AcceptedCmp1  AcceptedCmp2  Complain  \\\n",
       "0             0             0             0             0         0   \n",
       "1             0             0             0             0         0   \n",
       "2             0             0             0             0         0   \n",
       "3             0             0             0             0         0   \n",
       "4             0             0             0             0         0   \n",
       "\n",
       "   Z_CostContact  Z_Revenue  Response  \n",
       "0              3         11         1  \n",
       "1              3         11         0  \n",
       "2              3         11         0  \n",
       "3              3         11         0  \n",
       "4              3         11         0  \n",
       "\n",
       "[5 rows x 29 columns]"
      ]
     },
     "execution_count": 2,
     "metadata": {},
     "output_type": "execute_result"
    }
   ],
   "source": [
    "df = pd.read_csv('../input/customer-personality-analysis/marketing_campaign.csv', sep=\"\\t\", parse_dates=['Dt_Customer'])\n",
    "df.head()"
   ]
  },
  {
   "cell_type": "markdown",
   "id": "e18f8e03",
   "metadata": {
    "papermill": {
     "duration": 0.025683,
     "end_time": "2021-12-02T05:41:23.635662",
     "exception": false,
     "start_time": "2021-12-02T05:41:23.609979",
     "status": "completed"
    },
    "tags": []
   },
   "source": [
    "Looking at histograms, we have two things to take into consideration:\n",
    "\n",
    "1. `Year_Birth` has values previous 1940. That is weird because that means customers older than 80 years and life expectancy, at least in north america, is roughly 80 years.\n",
    "2. `Income` has very extream values, that is easy to see because incomes shouldn't have such long right tail (left tails would be even weird, we don't use to have negative income)\n",
    "\n",
    "The next step would be look into these extream values, and decide wether keep or remove them. To do this analysis, my best option is do a 'close up' and see what we found there."
   ]
  },
  {
   "cell_type": "code",
   "execution_count": 3,
   "id": "a4dc7fc9",
   "metadata": {
    "execution": {
     "iopub.execute_input": "2021-12-02T05:41:23.691150Z",
     "iopub.status.busy": "2021-12-02T05:41:23.690069Z",
     "iopub.status.idle": "2021-12-02T05:41:24.429640Z",
     "shell.execute_reply": "2021-12-02T05:41:24.430191Z",
     "shell.execute_reply.started": "2021-12-02T04:18:06.884921Z"
    },
    "papermill": {
     "duration": 0.769107,
     "end_time": "2021-12-02T05:41:24.430391",
     "exception": false,
     "start_time": "2021-12-02T05:41:23.661284",
     "status": "completed"
    },
    "tags": []
   },
   "outputs": [
    {
     "data": {
      "text/plain": [
       "<AxesSubplot:ylabel='Frequency'>"
      ]
     },
     "execution_count": 3,
     "metadata": {},
     "output_type": "execute_result"
    },
    {
     "data": {
      "image/png": "[encoded data removed]",
      "text/plain": [
       "<Figure size 1080x360 with 3 Axes>"
      ]
     },
     "metadata": {
      "needs_background": "light"
     },
     "output_type": "display_data"
    }
   ],
   "source": [
    "_,ax = plt.subplots(1,3,figsize=(15,5))\n",
    "\n",
    "df.Year_Birth.plot.hist(ax=ax[0])\n",
    "df.Dt_Customer.dt.year.plot.hist(ax=ax[1], bins=3)\n",
    "df.Income.plot.hist(ax=ax[2])"
   ]
  },
  {
   "cell_type": "markdown",
   "id": "a0bcdb2f",
   "metadata": {
    "papermill": {
     "duration": 0.02655,
     "end_time": "2021-12-02T05:41:24.483686",
     "exception": false,
     "start_time": "2021-12-02T05:41:24.457136",
     "status": "completed"
    },
    "tags": []
   },
   "source": [
    "## Customers greater than 80 years old\n",
    "\n",
    "What we're doing next, is understanding those values beyond 1940. As we can see, there are 3 customers greater than 100 years when they made their last purchase.\n",
    "\n",
    "I really don't know if someone greater than 100 years would go to a store and buy they groceries, but they are clearly outliers and don't require much processing to be removed (they just represent 4 records).\n",
    "\n",
    "Maybe these values are errors during capturing, so I'll leave them and see in a further analysis doing a interpolation and change those values or remove them."
   ]
  },
  {
   "cell_type": "code",
   "execution_count": 4,
   "id": "c056d80d",
   "metadata": {
    "execution": {
     "iopub.execute_input": "2021-12-02T05:41:24.561179Z",
     "iopub.status.busy": "2021-12-02T05:41:24.560318Z",
     "iopub.status.idle": "2021-12-02T05:41:24.563663Z",
     "shell.execute_reply": "2021-12-02T05:41:24.564176Z",
     "shell.execute_reply.started": "2021-12-02T04:18:07.551254Z"
    },
    "papermill": {
     "duration": 0.053085,
     "end_time": "2021-12-02T05:41:24.564351",
     "exception": false,
     "start_time": "2021-12-02T05:41:24.511266",
     "status": "completed"
    },
    "tags": []
   },
   "outputs": [
    {
     "data": {
      "text/html": [
       "<div>\n",
       "<style scoped>\n",
       "    .dataframe tbody tr th:only-of-type {\n",
       "        vertical-align: middle;\n",
       "    }\n",
       "\n",
       "    .dataframe tbody tr th {\n",
       "        vertical-align: top;\n",
       "    }\n",
       "\n",
       "    .dataframe thead th {\n",
       "        text-align: right;\n",
       "    }\n",
       "</style>\n",
       "<table border=\"1\" class=\"dataframe\">\n",
       "  <thead>\n",
       "    <tr style=\"text-align: right;\">\n",
       "      <th></th>\n",
       "      <th>ID</th>\n",
       "      <th>Year_Birth</th>\n",
       "      <th>Dt_Customer</th>\n",
       "      <th>age_when_last_purchase</th>\n",
       "      <th>Income</th>\n",
       "    </tr>\n",
       "  </thead>\n",
       "  <tbody>\n",
       "    <tr>\n",
       "      <th>192</th>\n",
       "      <td>7829</td>\n",
       "      <td>1900</td>\n",
       "      <td>2013-09-26</td>\n",
       "      <td>113</td>\n",
       "      <td>36640.0</td>\n",
       "    </tr>\n",
       "    <tr>\n",
       "      <th>239</th>\n",
       "      <td>11004</td>\n",
       "      <td>1893</td>\n",
       "      <td>2014-05-17</td>\n",
       "      <td>121</td>\n",
       "      <td>60182.0</td>\n",
       "    </tr>\n",
       "    <tr>\n",
       "      <th>339</th>\n",
       "      <td>1150</td>\n",
       "      <td>1899</td>\n",
       "      <td>2013-09-26</td>\n",
       "      <td>114</td>\n",
       "      <td>83532.0</td>\n",
       "    </tr>\n",
       "    <tr>\n",
       "      <th>1950</th>\n",
       "      <td>6663</td>\n",
       "      <td>1940</td>\n",
       "      <td>2013-08-07</td>\n",
       "      <td>73</td>\n",
       "      <td>51141.0</td>\n",
       "    </tr>\n",
       "  </tbody>\n",
       "</table>\n",
       "</div>"
      ],
      "text/plain": [
       "         ID  Year_Birth Dt_Customer  age_when_last_purchase   Income\n",
       "192    7829        1900  2013-09-26                     113  36640.0\n",
       "239   11004        1893  2014-05-17                     121  60182.0\n",
       "339    1150        1899  2013-09-26                     114  83532.0\n",
       "1950   6663        1940  2013-08-07                      73  51141.0"
      ]
     },
     "execution_count": 4,
     "metadata": {},
     "output_type": "execute_result"
    }
   ],
   "source": [
    "# Checking `Year_Birth` lower than 1940\n",
    "\n",
    "df.query(\n",
    "    \"Year_Birth <= 1940\"\n",
    ").assign(\n",
    "    age_when_last_purchase = lambda df: df.Dt_Customer.dt.year.sub(df.Year_Birth)\n",
    ").filter(\n",
    "    ['ID','Year_Birth','Dt_Customer','age_when_last_purchase','Income']\n",
    ")"
   ]
  },
  {
   "cell_type": "markdown",
   "id": "f7f87391",
   "metadata": {
    "papermill": {
     "duration": 0.027008,
     "end_time": "2021-12-02T05:41:24.618963",
     "exception": false,
     "start_time": "2021-12-02T05:41:24.591955",
     "status": "completed"
    },
    "tags": []
   },
   "source": [
    "## Customer with high incomes\n",
    "\n",
    "Next, exploring incomes. Surely, we'll find extream values with low representation inside the database. We're looking for high representative populations to do a correct segmentations, and extream values are problematic to reach this goal.\n",
    "\n",
    "The first thing to do is a close up to values beyond a threshold, the threshold can be set looking at percentiles 5, 10, 90 and 95. There we have as lower yearly income as 1,730 and as higher as 666,666 (we should see why is this value, maybe is a way to represent emptiness).\n",
    "\n",
    "The close up I choose is from percentile 90 but lower than 666,666, results shows outliers just in `Year_Birth`."
   ]
  },
  {
   "cell_type": "code",
   "execution_count": 5,
   "id": "3b366a53",
   "metadata": {
    "execution": {
     "iopub.execute_input": "2021-12-02T05:41:24.677430Z",
     "iopub.status.busy": "2021-12-02T05:41:24.676453Z",
     "iopub.status.idle": "2021-12-02T05:41:24.685937Z",
     "shell.execute_reply": "2021-12-02T05:41:24.686438Z",
     "shell.execute_reply.started": "2021-12-02T04:18:07.581062Z"
    },
    "papermill": {
     "duration": 0.040347,
     "end_time": "2021-12-02T05:41:24.686619",
     "exception": false,
     "start_time": "2021-12-02T05:41:24.646272",
     "status": "completed"
    },
    "tags": []
   },
   "outputs": [
    {
     "data": {
      "text/plain": [
       "count      2216.000000\n",
       "mean      52247.251354\n",
       "std       25173.076661\n",
       "min        1730.000000\n",
       "5%        18985.500000\n",
       "10%       24117.500000\n",
       "25%       35303.000000\n",
       "50%       51381.500000\n",
       "75%       68522.000000\n",
       "90%       79844.000000\n",
       "95%       84130.000000\n",
       "max      666666.000000\n",
       "Name: Income, dtype: float64"
      ]
     },
     "execution_count": 5,
     "metadata": {},
     "output_type": "execute_result"
    }
   ],
   "source": [
    "# Checking incomes distributions\n",
    "df.Income.describe(percentiles=[0.05,0.1,0.25,0.5,0.75,0.9,0.95])"
   ]
  },
  {
   "cell_type": "code",
   "execution_count": 6,
   "id": "5232ad8c",
   "metadata": {
    "execution": {
     "iopub.execute_input": "2021-12-02T05:41:24.765324Z",
     "iopub.status.busy": "2021-12-02T05:41:24.744533Z",
     "iopub.status.idle": "2021-12-02T05:41:25.170587Z",
     "shell.execute_reply": "2021-12-02T05:41:25.169933Z",
     "shell.execute_reply.started": "2021-12-02T04:18:07.597367Z"
    },
    "papermill": {
     "duration": 0.456697,
     "end_time": "2021-12-02T05:41:25.170729",
     "exception": false,
     "start_time": "2021-12-02T05:41:24.714032",
     "status": "completed"
    },
    "tags": []
   },
   "outputs": [
    {
     "data": {
      "text/plain": [
       "<AxesSubplot:ylabel='Frequency'>"
      ]
     },
     "execution_count": 6,
     "metadata": {},
     "output_type": "execute_result"
    },
    {
     "data": {
      "image/png": "[encoded data removed]",
      "text/plain": [
       "<Figure size 720x360 with 2 Axes>"
      ]
     },
     "metadata": {
      "needs_background": "light"
     },
     "output_type": "display_data"
    }
   ],
   "source": [
    "_,ax = plt.subplots(1,2,figsize=(10,5))\n",
    "df.query(\"Income >= 79_844 and Income < 666_666\").Year_Birth.plot.hist(ax=ax[0])\n",
    "df.query(\"Income >= 79_844 and Income < 666_666\").Income.plot.hist(ax=ax[1])"
   ]
  },
  {
   "cell_type": "markdown",
   "id": "77310fb5",
   "metadata": {
    "papermill": {
     "duration": 0.028316,
     "end_time": "2021-12-02T05:41:25.227549",
     "exception": false,
     "start_time": "2021-12-02T05:41:25.199233",
     "status": "completed"
    },
    "tags": []
   },
   "source": [
    "## Marital Status Exploration\n",
    "\n",
    "In fact, married is the most popular status, it's has lower variance than together or even single.\n",
    "\n",
    "Together, Married and Divorced has nearly the same median, Single is a bit lower than those three. Widow, Alone, Absurd and YOLO are goind to be grouped, this way we can reduce a bit the variance inside the data."
   ]
  },
  {
   "cell_type": "code",
   "execution_count": 7,
   "id": "71e497d4",
   "metadata": {
    "execution": {
     "iopub.execute_input": "2021-12-02T05:41:25.313365Z",
     "iopub.status.busy": "2021-12-02T05:41:25.312670Z",
     "iopub.status.idle": "2021-12-02T05:41:25.774026Z",
     "shell.execute_reply": "2021-12-02T05:41:25.774592Z",
     "shell.execute_reply.started": "2021-12-02T04:18:08.015059Z"
    },
    "papermill": {
     "duration": 0.518676,
     "end_time": "2021-12-02T05:41:25.774774",
     "exception": false,
     "start_time": "2021-12-02T05:41:25.256098",
     "status": "completed"
    },
    "tags": []
   },
   "outputs": [
    {
     "data": {
      "text/plain": [
       "<AxesSubplot:xlabel='Income', ylabel='Marital_Status'>"
      ]
     },
     "execution_count": 7,
     "metadata": {},
     "output_type": "execute_result"
    },
    {
     "data": {
      "image/png": "[encoded data removed]",
      "text/plain": [
       "<Figure size 720x360 with 2 Axes>"
      ]
     },
     "metadata": {
      "needs_background": "light"
     },
     "output_type": "display_data"
    }
   ],
   "source": [
    "_,ax = plt.subplots(1,2,figsize=(10,5))\n",
    "df.Marital_Status.value_counts().plot.pie(ax=ax[0])\n",
    "sns.boxplot(data=df.query(\"Income < 666_666\"), y='Marital_Status', x='Income', ax=ax[1])"
   ]
  },
  {
   "cell_type": "code",
   "execution_count": 8,
   "id": "26dd76cc",
   "metadata": {
    "execution": {
     "iopub.execute_input": "2021-12-02T05:41:25.841456Z",
     "iopub.status.busy": "2021-12-02T05:41:25.840420Z",
     "iopub.status.idle": "2021-12-02T05:41:25.845073Z",
     "shell.execute_reply": "2021-12-02T05:41:25.845632Z",
     "shell.execute_reply.started": "2021-12-02T04:18:08.530499Z"
    },
    "papermill": {
     "duration": 0.041265,
     "end_time": "2021-12-02T05:41:25.845808",
     "exception": false,
     "start_time": "2021-12-02T05:41:25.804543",
     "status": "completed"
    },
    "tags": []
   },
   "outputs": [],
   "source": [
    "def group_marital_status(df):\n",
    "    return np.where(\n",
    "        df.Marital_Status.isin(['Widow','Alone','Absurd','YOLO']),\n",
    "        \"Non Common\",\n",
    "        df.Marital_Status\n",
    "    )\n",
    "\n",
    "df = df.assign(\n",
    "    Marital_Status_grouped = lambda df: group_marital_status(df)\n",
    ")"
   ]
  },
  {
   "cell_type": "code",
   "execution_count": 9,
   "id": "d980d83b",
   "metadata": {
    "execution": {
     "iopub.execute_input": "2021-12-02T05:41:25.911668Z",
     "iopub.status.busy": "2021-12-02T05:41:25.910916Z",
     "iopub.status.idle": "2021-12-02T05:41:26.310822Z",
     "shell.execute_reply": "2021-12-02T05:41:26.311394Z",
     "shell.execute_reply.started": "2021-12-02T04:18:08.543749Z"
    },
    "papermill": {
     "duration": 0.434532,
     "end_time": "2021-12-02T05:41:26.311572",
     "exception": false,
     "start_time": "2021-12-02T05:41:25.877040",
     "status": "completed"
    },
    "tags": []
   },
   "outputs": [
    {
     "data": {
      "text/plain": [
       "<AxesSubplot:xlabel='Income', ylabel='Marital_Status_grouped'>"
      ]
     },
     "execution_count": 9,
     "metadata": {},
     "output_type": "execute_result"
    },
    {
     "data": {
      "image/png": "[encoded data removed]",
      "text/plain": [
       "<Figure size 720x360 with 2 Axes>"
      ]
     },
     "metadata": {
      "needs_background": "light"
     },
     "output_type": "display_data"
    }
   ],
   "source": [
    "_,ax = plt.subplots(1,2,figsize=(10,5))\n",
    "df.Marital_Status_grouped.value_counts().plot.pie(ax=ax[0])\n",
    "sns.boxplot(data=df.query(\"Income < 666_666\"), y='Marital_Status_grouped', x='Income', ax=ax[1])"
   ]
  },
  {
   "cell_type": "markdown",
   "id": "fc08b6db",
   "metadata": {
    "papermill": {
     "duration": 0.031287,
     "end_time": "2021-12-02T05:41:26.375436",
     "exception": false,
     "start_time": "2021-12-02T05:41:26.344149",
     "status": "completed"
    },
    "tags": []
   },
   "source": [
    "## Recency Exploration\n",
    "\n",
    "Contrary to the other variables, this seems to be more equally distributed. What we are looking here is identify break points that give us some insights to split the data."
   ]
  },
  {
   "cell_type": "code",
   "execution_count": 10,
   "id": "16a4f97b",
   "metadata": {
    "execution": {
     "iopub.execute_input": "2021-12-02T05:41:26.442761Z",
     "iopub.status.busy": "2021-12-02T05:41:26.441984Z",
     "iopub.status.idle": "2021-12-02T05:41:26.665952Z",
     "shell.execute_reply": "2021-12-02T05:41:26.665393Z",
     "shell.execute_reply.started": "2021-12-02T04:18:08.981826Z"
    },
    "papermill": {
     "duration": 0.259152,
     "end_time": "2021-12-02T05:41:26.666091",
     "exception": false,
     "start_time": "2021-12-02T05:41:26.406939",
     "status": "completed"
    },
    "tags": []
   },
   "outputs": [
    {
     "data": {
      "text/plain": [
       "<AxesSubplot:ylabel='Frequency'>"
      ]
     },
     "execution_count": 10,
     "metadata": {},
     "output_type": "execute_result"
    },
    {
     "data": {
      "image/png": "[encoded data removed]",
      "text/plain": [
       "<Figure size 432x288 with 1 Axes>"
      ]
     },
     "metadata": {
      "needs_background": "light"
     },
     "output_type": "display_data"
    }
   ],
   "source": [
    "df.Recency.plot.hist()"
   ]
  },
  {
   "cell_type": "markdown",
   "id": "e1c4a9cd",
   "metadata": {
    "papermill": {
     "duration": 0.032758,
     "end_time": "2021-12-02T05:41:26.731328",
     "exception": false,
     "start_time": "2021-12-02T05:41:26.698570",
     "status": "completed"
    },
    "tags": []
   },
   "source": [
    "# Next steps\n",
    "\n",
    "## Interpolation\n",
    "\n",
    "I'm not really worry about year birth outliers, because they are just 4 records. But income outliers could be a problem, from our 2,240 records they represent 10% of the data, that's an issue in such a small dataset. Hopefully we can do something about those 2 problems.\n",
    "\n",
    "First of all, I'll remove that 666,666 income (it's a record) and the empty ones (I didn't notice earlier). Leaving the Year_Birth outliers to perform a simple interpolation.\n",
    "\n",
    "Before anything else, let's understand customers attributes in general and particular. Then we can propose a value and confirm it using a ML model."
   ]
  },
  {
   "cell_type": "code",
   "execution_count": 11,
   "id": "a07fd060",
   "metadata": {
    "execution": {
     "iopub.execute_input": "2021-12-02T05:41:26.800341Z",
     "iopub.status.busy": "2021-12-02T05:41:26.799668Z",
     "iopub.status.idle": "2021-12-02T05:41:26.807257Z",
     "shell.execute_reply": "2021-12-02T05:41:26.807793Z",
     "shell.execute_reply.started": "2021-12-02T04:18:09.228743Z"
    },
    "papermill": {
     "duration": 0.043508,
     "end_time": "2021-12-02T05:41:26.807973",
     "exception": false,
     "start_time": "2021-12-02T05:41:26.764465",
     "status": "completed"
    },
    "tags": []
   },
   "outputs": [],
   "source": [
    "def clear_wrong_year_birth(df):\n",
    "    return np.where(\n",
    "        df.Year_Birth.lt(1940),\n",
    "        np.nan,\n",
    "        df.Year_Birth\n",
    "    )\n",
    "\n",
    "def clear_wrong_income(df):\n",
    "    return np.where(\n",
    "        df.Income.ge(666_666),\n",
    "        np.nan,\n",
    "        df.Income\n",
    "    )\n",
    "\n",
    "df = df.assign(\n",
    "    Year_Birth_Interpolated = lambda df: clear_wrong_year_birth(df),\n",
    "    Income_Interpolated = lambda df: clear_wrong_income(df)\n",
    ")"
   ]
  },
  {
   "cell_type": "markdown",
   "id": "740347fe",
   "metadata": {
    "papermill": {
     "duration": 0.032239,
     "end_time": "2021-12-02T05:41:26.872487",
     "exception": false,
     "start_time": "2021-12-02T05:41:26.840248",
     "status": "completed"
    },
    "tags": []
   },
   "source": [
    "## Infering missings\n",
    "\n",
    "I'm plotting the missing from both `Income` and `Year_Birth`. The result shows when `Year_Birth` is empty, `Income` is not and vice versa.\n",
    "\n",
    "Now, the second task is to identify a correlation that lead us to a model to interpolate those missing values. The perfect tool for this task is a heatmap."
   ]
  },
  {
   "cell_type": "code",
   "execution_count": 12,
   "id": "28a3e86a",
   "metadata": {
    "execution": {
     "iopub.execute_input": "2021-12-02T05:41:26.941542Z",
     "iopub.status.busy": "2021-12-02T05:41:26.940816Z",
     "iopub.status.idle": "2021-12-02T05:41:26.982564Z",
     "shell.execute_reply": "2021-12-02T05:41:26.983066Z",
     "shell.execute_reply.started": "2021-12-02T04:18:09.237945Z"
    },
    "papermill": {
     "duration": 0.078487,
     "end_time": "2021-12-02T05:41:26.983253",
     "exception": false,
     "start_time": "2021-12-02T05:41:26.904766",
     "status": "completed"
    },
    "tags": []
   },
   "outputs": [
    {
     "data": {
      "text/html": [
       "<div>\n",
       "<style scoped>\n",
       "    .dataframe tbody tr th:only-of-type {\n",
       "        vertical-align: middle;\n",
       "    }\n",
       "\n",
       "    .dataframe tbody tr th {\n",
       "        vertical-align: top;\n",
       "    }\n",
       "\n",
       "    .dataframe thead th {\n",
       "        text-align: right;\n",
       "    }\n",
       "</style>\n",
       "<table border=\"1\" class=\"dataframe\">\n",
       "  <thead>\n",
       "    <tr style=\"text-align: right;\">\n",
       "      <th></th>\n",
       "      <th>ID</th>\n",
       "      <th>Year_Birth</th>\n",
       "      <th>Education</th>\n",
       "      <th>Marital_Status</th>\n",
       "      <th>Income</th>\n",
       "      <th>Kidhome</th>\n",
       "      <th>Teenhome</th>\n",
       "      <th>Dt_Customer</th>\n",
       "      <th>Recency</th>\n",
       "      <th>MntWines</th>\n",
       "      <th>...</th>\n",
       "      <th>AcceptedCmp5</th>\n",
       "      <th>AcceptedCmp1</th>\n",
       "      <th>AcceptedCmp2</th>\n",
       "      <th>Complain</th>\n",
       "      <th>Z_CostContact</th>\n",
       "      <th>Z_Revenue</th>\n",
       "      <th>Response</th>\n",
       "      <th>Marital_Status_grouped</th>\n",
       "      <th>Year_Birth_Interpolated</th>\n",
       "      <th>Income_Interpolated</th>\n",
       "    </tr>\n",
       "  </thead>\n",
       "  <tbody>\n",
       "    <tr>\n",
       "      <th>10</th>\n",
       "      <td>1994</td>\n",
       "      <td>1983</td>\n",
       "      <td>Graduation</td>\n",
       "      <td>Married</td>\n",
       "      <td>NaN</td>\n",
       "      <td>1</td>\n",
       "      <td>0</td>\n",
       "      <td>2013-11-15</td>\n",
       "      <td>11</td>\n",
       "      <td>5</td>\n",
       "      <td>...</td>\n",
       "      <td>0</td>\n",
       "      <td>0</td>\n",
       "      <td>0</td>\n",
       "      <td>0</td>\n",
       "      <td>3</td>\n",
       "      <td>11</td>\n",
       "      <td>0</td>\n",
       "      <td>Married</td>\n",
       "      <td>1983.0</td>\n",
       "      <td>NaN</td>\n",
       "    </tr>\n",
       "    <tr>\n",
       "      <th>27</th>\n",
       "      <td>5255</td>\n",
       "      <td>1986</td>\n",
       "      <td>Graduation</td>\n",
       "      <td>Single</td>\n",
       "      <td>NaN</td>\n",
       "      <td>1</td>\n",
       "      <td>0</td>\n",
       "      <td>2013-02-20</td>\n",
       "      <td>19</td>\n",
       "      <td>5</td>\n",
       "      <td>...</td>\n",
       "      <td>0</td>\n",
       "      <td>0</td>\n",
       "      <td>0</td>\n",
       "      <td>0</td>\n",
       "      <td>3</td>\n",
       "      <td>11</td>\n",
       "      <td>0</td>\n",
       "      <td>Single</td>\n",
       "      <td>1986.0</td>\n",
       "      <td>NaN</td>\n",
       "    </tr>\n",
       "    <tr>\n",
       "      <th>43</th>\n",
       "      <td>7281</td>\n",
       "      <td>1959</td>\n",
       "      <td>PhD</td>\n",
       "      <td>Single</td>\n",
       "      <td>NaN</td>\n",
       "      <td>0</td>\n",
       "      <td>0</td>\n",
       "      <td>2013-05-11</td>\n",
       "      <td>80</td>\n",
       "      <td>81</td>\n",
       "      <td>...</td>\n",
       "      <td>0</td>\n",
       "      <td>0</td>\n",
       "      <td>0</td>\n",
       "      <td>0</td>\n",
       "      <td>3</td>\n",
       "      <td>11</td>\n",
       "      <td>0</td>\n",
       "      <td>Single</td>\n",
       "      <td>1959.0</td>\n",
       "      <td>NaN</td>\n",
       "    </tr>\n",
       "    <tr>\n",
       "      <th>48</th>\n",
       "      <td>7244</td>\n",
       "      <td>1951</td>\n",
       "      <td>Graduation</td>\n",
       "      <td>Single</td>\n",
       "      <td>NaN</td>\n",
       "      <td>2</td>\n",
       "      <td>1</td>\n",
       "      <td>2014-01-01</td>\n",
       "      <td>96</td>\n",
       "      <td>48</td>\n",
       "      <td>...</td>\n",
       "      <td>0</td>\n",
       "      <td>0</td>\n",
       "      <td>0</td>\n",
       "      <td>0</td>\n",
       "      <td>3</td>\n",
       "      <td>11</td>\n",
       "      <td>0</td>\n",
       "      <td>Single</td>\n",
       "      <td>1951.0</td>\n",
       "      <td>NaN</td>\n",
       "    </tr>\n",
       "    <tr>\n",
       "      <th>58</th>\n",
       "      <td>8557</td>\n",
       "      <td>1982</td>\n",
       "      <td>Graduation</td>\n",
       "      <td>Single</td>\n",
       "      <td>NaN</td>\n",
       "      <td>1</td>\n",
       "      <td>0</td>\n",
       "      <td>2013-06-17</td>\n",
       "      <td>57</td>\n",
       "      <td>11</td>\n",
       "      <td>...</td>\n",
       "      <td>0</td>\n",
       "      <td>0</td>\n",
       "      <td>0</td>\n",
       "      <td>0</td>\n",
       "      <td>3</td>\n",
       "      <td>11</td>\n",
       "      <td>0</td>\n",
       "      <td>Single</td>\n",
       "      <td>1982.0</td>\n",
       "      <td>NaN</td>\n",
       "    </tr>\n",
       "    <tr>\n",
       "      <th>71</th>\n",
       "      <td>10629</td>\n",
       "      <td>1973</td>\n",
       "      <td>2n Cycle</td>\n",
       "      <td>Married</td>\n",
       "      <td>NaN</td>\n",
       "      <td>1</td>\n",
       "      <td>0</td>\n",
       "      <td>2012-09-14</td>\n",
       "      <td>25</td>\n",
       "      <td>25</td>\n",
       "      <td>...</td>\n",
       "      <td>0</td>\n",
       "      <td>0</td>\n",
       "      <td>0</td>\n",
       "      <td>0</td>\n",
       "      <td>3</td>\n",
       "      <td>11</td>\n",
       "      <td>0</td>\n",
       "      <td>Married</td>\n",
       "      <td>1973.0</td>\n",
       "      <td>NaN</td>\n",
       "    </tr>\n",
       "    <tr>\n",
       "      <th>90</th>\n",
       "      <td>8996</td>\n",
       "      <td>1957</td>\n",
       "      <td>PhD</td>\n",
       "      <td>Married</td>\n",
       "      <td>NaN</td>\n",
       "      <td>2</td>\n",
       "      <td>1</td>\n",
       "      <td>2012-11-19</td>\n",
       "      <td>4</td>\n",
       "      <td>230</td>\n",
       "      <td>...</td>\n",
       "      <td>0</td>\n",
       "      <td>0</td>\n",
       "      <td>0</td>\n",
       "      <td>0</td>\n",
       "      <td>3</td>\n",
       "      <td>11</td>\n",
       "      <td>0</td>\n",
       "      <td>Married</td>\n",
       "      <td>1957.0</td>\n",
       "      <td>NaN</td>\n",
       "    </tr>\n",
       "    <tr>\n",
       "      <th>91</th>\n",
       "      <td>9235</td>\n",
       "      <td>1957</td>\n",
       "      <td>Graduation</td>\n",
       "      <td>Single</td>\n",
       "      <td>NaN</td>\n",
       "      <td>1</td>\n",
       "      <td>1</td>\n",
       "      <td>2014-05-27</td>\n",
       "      <td>45</td>\n",
       "      <td>7</td>\n",
       "      <td>...</td>\n",
       "      <td>0</td>\n",
       "      <td>0</td>\n",
       "      <td>0</td>\n",
       "      <td>0</td>\n",
       "      <td>3</td>\n",
       "      <td>11</td>\n",
       "      <td>0</td>\n",
       "      <td>Single</td>\n",
       "      <td>1957.0</td>\n",
       "      <td>NaN</td>\n",
       "    </tr>\n",
       "    <tr>\n",
       "      <th>92</th>\n",
       "      <td>5798</td>\n",
       "      <td>1973</td>\n",
       "      <td>Master</td>\n",
       "      <td>Together</td>\n",
       "      <td>NaN</td>\n",
       "      <td>0</td>\n",
       "      <td>0</td>\n",
       "      <td>2013-11-23</td>\n",
       "      <td>87</td>\n",
       "      <td>445</td>\n",
       "      <td>...</td>\n",
       "      <td>0</td>\n",
       "      <td>0</td>\n",
       "      <td>0</td>\n",
       "      <td>0</td>\n",
       "      <td>3</td>\n",
       "      <td>11</td>\n",
       "      <td>0</td>\n",
       "      <td>Together</td>\n",
       "      <td>1973.0</td>\n",
       "      <td>NaN</td>\n",
       "    </tr>\n",
       "    <tr>\n",
       "      <th>128</th>\n",
       "      <td>8268</td>\n",
       "      <td>1961</td>\n",
       "      <td>PhD</td>\n",
       "      <td>Married</td>\n",
       "      <td>NaN</td>\n",
       "      <td>0</td>\n",
       "      <td>1</td>\n",
       "      <td>2013-11-07</td>\n",
       "      <td>23</td>\n",
       "      <td>352</td>\n",
       "      <td>...</td>\n",
       "      <td>0</td>\n",
       "      <td>0</td>\n",
       "      <td>0</td>\n",
       "      <td>0</td>\n",
       "      <td>3</td>\n",
       "      <td>11</td>\n",
       "      <td>0</td>\n",
       "      <td>Married</td>\n",
       "      <td>1961.0</td>\n",
       "      <td>NaN</td>\n",
       "    </tr>\n",
       "    <tr>\n",
       "      <th>133</th>\n",
       "      <td>1295</td>\n",
       "      <td>1963</td>\n",
       "      <td>Graduation</td>\n",
       "      <td>Married</td>\n",
       "      <td>NaN</td>\n",
       "      <td>0</td>\n",
       "      <td>1</td>\n",
       "      <td>2013-11-08</td>\n",
       "      <td>96</td>\n",
       "      <td>231</td>\n",
       "      <td>...</td>\n",
       "      <td>0</td>\n",
       "      <td>0</td>\n",
       "      <td>0</td>\n",
       "      <td>0</td>\n",
       "      <td>3</td>\n",
       "      <td>11</td>\n",
       "      <td>0</td>\n",
       "      <td>Married</td>\n",
       "      <td>1963.0</td>\n",
       "      <td>NaN</td>\n",
       "    </tr>\n",
       "    <tr>\n",
       "      <th>192</th>\n",
       "      <td>7829</td>\n",
       "      <td>1900</td>\n",
       "      <td>2n Cycle</td>\n",
       "      <td>Divorced</td>\n",
       "      <td>36640.0</td>\n",
       "      <td>1</td>\n",
       "      <td>0</td>\n",
       "      <td>2013-09-26</td>\n",
       "      <td>99</td>\n",
       "      <td>15</td>\n",
       "      <td>...</td>\n",
       "      <td>0</td>\n",
       "      <td>0</td>\n",
       "      <td>0</td>\n",
       "      <td>1</td>\n",
       "      <td>3</td>\n",
       "      <td>11</td>\n",
       "      <td>0</td>\n",
       "      <td>Divorced</td>\n",
       "      <td>NaN</td>\n",
       "      <td>36640.0</td>\n",
       "    </tr>\n",
       "    <tr>\n",
       "      <th>239</th>\n",
       "      <td>11004</td>\n",
       "      <td>1893</td>\n",
       "      <td>2n Cycle</td>\n",
       "      <td>Single</td>\n",
       "      <td>60182.0</td>\n",
       "      <td>0</td>\n",
       "      <td>1</td>\n",
       "      <td>2014-05-17</td>\n",
       "      <td>23</td>\n",
       "      <td>8</td>\n",
       "      <td>...</td>\n",
       "      <td>0</td>\n",
       "      <td>0</td>\n",
       "      <td>0</td>\n",
       "      <td>0</td>\n",
       "      <td>3</td>\n",
       "      <td>11</td>\n",
       "      <td>0</td>\n",
       "      <td>Single</td>\n",
       "      <td>NaN</td>\n",
       "      <td>60182.0</td>\n",
       "    </tr>\n",
       "    <tr>\n",
       "      <th>312</th>\n",
       "      <td>2437</td>\n",
       "      <td>1989</td>\n",
       "      <td>Graduation</td>\n",
       "      <td>Married</td>\n",
       "      <td>NaN</td>\n",
       "      <td>0</td>\n",
       "      <td>0</td>\n",
       "      <td>2013-03-06</td>\n",
       "      <td>69</td>\n",
       "      <td>861</td>\n",
       "      <td>...</td>\n",
       "      <td>0</td>\n",
       "      <td>1</td>\n",
       "      <td>0</td>\n",
       "      <td>0</td>\n",
       "      <td>3</td>\n",
       "      <td>11</td>\n",
       "      <td>0</td>\n",
       "      <td>Married</td>\n",
       "      <td>1989.0</td>\n",
       "      <td>NaN</td>\n",
       "    </tr>\n",
       "    <tr>\n",
       "      <th>319</th>\n",
       "      <td>2863</td>\n",
       "      <td>1970</td>\n",
       "      <td>Graduation</td>\n",
       "      <td>Single</td>\n",
       "      <td>NaN</td>\n",
       "      <td>1</td>\n",
       "      <td>2</td>\n",
       "      <td>2013-08-23</td>\n",
       "      <td>67</td>\n",
       "      <td>738</td>\n",
       "      <td>...</td>\n",
       "      <td>0</td>\n",
       "      <td>1</td>\n",
       "      <td>0</td>\n",
       "      <td>0</td>\n",
       "      <td>3</td>\n",
       "      <td>11</td>\n",
       "      <td>0</td>\n",
       "      <td>Single</td>\n",
       "      <td>1970.0</td>\n",
       "      <td>NaN</td>\n",
       "    </tr>\n",
       "    <tr>\n",
       "      <th>339</th>\n",
       "      <td>1150</td>\n",
       "      <td>1899</td>\n",
       "      <td>PhD</td>\n",
       "      <td>Together</td>\n",
       "      <td>83532.0</td>\n",
       "      <td>0</td>\n",
       "      <td>0</td>\n",
       "      <td>2013-09-26</td>\n",
       "      <td>36</td>\n",
       "      <td>755</td>\n",
       "      <td>...</td>\n",
       "      <td>1</td>\n",
       "      <td>0</td>\n",
       "      <td>0</td>\n",
       "      <td>0</td>\n",
       "      <td>3</td>\n",
       "      <td>11</td>\n",
       "      <td>0</td>\n",
       "      <td>Together</td>\n",
       "      <td>NaN</td>\n",
       "      <td>83532.0</td>\n",
       "    </tr>\n",
       "    <tr>\n",
       "      <th>1379</th>\n",
       "      <td>10475</td>\n",
       "      <td>1970</td>\n",
       "      <td>Master</td>\n",
       "      <td>Together</td>\n",
       "      <td>NaN</td>\n",
       "      <td>0</td>\n",
       "      <td>1</td>\n",
       "      <td>2013-01-04</td>\n",
       "      <td>39</td>\n",
       "      <td>187</td>\n",
       "      <td>...</td>\n",
       "      <td>0</td>\n",
       "      <td>0</td>\n",
       "      <td>0</td>\n",
       "      <td>0</td>\n",
       "      <td>3</td>\n",
       "      <td>11</td>\n",
       "      <td>0</td>\n",
       "      <td>Together</td>\n",
       "      <td>1970.0</td>\n",
       "      <td>NaN</td>\n",
       "    </tr>\n",
       "    <tr>\n",
       "      <th>1382</th>\n",
       "      <td>2902</td>\n",
       "      <td>1958</td>\n",
       "      <td>Graduation</td>\n",
       "      <td>Together</td>\n",
       "      <td>NaN</td>\n",
       "      <td>1</td>\n",
       "      <td>1</td>\n",
       "      <td>2012-03-09</td>\n",
       "      <td>87</td>\n",
       "      <td>19</td>\n",
       "      <td>...</td>\n",
       "      <td>0</td>\n",
       "      <td>0</td>\n",
       "      <td>0</td>\n",
       "      <td>0</td>\n",
       "      <td>3</td>\n",
       "      <td>11</td>\n",
       "      <td>0</td>\n",
       "      <td>Together</td>\n",
       "      <td>1958.0</td>\n",
       "      <td>NaN</td>\n",
       "    </tr>\n",
       "    <tr>\n",
       "      <th>1383</th>\n",
       "      <td>4345</td>\n",
       "      <td>1964</td>\n",
       "      <td>2n Cycle</td>\n",
       "      <td>Single</td>\n",
       "      <td>NaN</td>\n",
       "      <td>1</td>\n",
       "      <td>1</td>\n",
       "      <td>2014-12-01</td>\n",
       "      <td>49</td>\n",
       "      <td>5</td>\n",
       "      <td>...</td>\n",
       "      <td>0</td>\n",
       "      <td>0</td>\n",
       "      <td>0</td>\n",
       "      <td>0</td>\n",
       "      <td>3</td>\n",
       "      <td>11</td>\n",
       "      <td>0</td>\n",
       "      <td>Single</td>\n",
       "      <td>1964.0</td>\n",
       "      <td>NaN</td>\n",
       "    </tr>\n",
       "    <tr>\n",
       "      <th>1386</th>\n",
       "      <td>3769</td>\n",
       "      <td>1972</td>\n",
       "      <td>PhD</td>\n",
       "      <td>Together</td>\n",
       "      <td>NaN</td>\n",
       "      <td>1</td>\n",
       "      <td>0</td>\n",
       "      <td>2014-02-03</td>\n",
       "      <td>17</td>\n",
       "      <td>25</td>\n",
       "      <td>...</td>\n",
       "      <td>0</td>\n",
       "      <td>0</td>\n",
       "      <td>0</td>\n",
       "      <td>0</td>\n",
       "      <td>3</td>\n",
       "      <td>11</td>\n",
       "      <td>0</td>\n",
       "      <td>Together</td>\n",
       "      <td>1972.0</td>\n",
       "      <td>NaN</td>\n",
       "    </tr>\n",
       "    <tr>\n",
       "      <th>2059</th>\n",
       "      <td>7187</td>\n",
       "      <td>1969</td>\n",
       "      <td>Master</td>\n",
       "      <td>Together</td>\n",
       "      <td>NaN</td>\n",
       "      <td>1</td>\n",
       "      <td>1</td>\n",
       "      <td>2013-05-18</td>\n",
       "      <td>52</td>\n",
       "      <td>375</td>\n",
       "      <td>...</td>\n",
       "      <td>0</td>\n",
       "      <td>0</td>\n",
       "      <td>0</td>\n",
       "      <td>0</td>\n",
       "      <td>3</td>\n",
       "      <td>11</td>\n",
       "      <td>0</td>\n",
       "      <td>Together</td>\n",
       "      <td>1969.0</td>\n",
       "      <td>NaN</td>\n",
       "    </tr>\n",
       "    <tr>\n",
       "      <th>2061</th>\n",
       "      <td>1612</td>\n",
       "      <td>1981</td>\n",
       "      <td>PhD</td>\n",
       "      <td>Single</td>\n",
       "      <td>NaN</td>\n",
       "      <td>1</td>\n",
       "      <td>0</td>\n",
       "      <td>2013-05-31</td>\n",
       "      <td>82</td>\n",
       "      <td>23</td>\n",
       "      <td>...</td>\n",
       "      <td>0</td>\n",
       "      <td>0</td>\n",
       "      <td>0</td>\n",
       "      <td>0</td>\n",
       "      <td>3</td>\n",
       "      <td>11</td>\n",
       "      <td>0</td>\n",
       "      <td>Single</td>\n",
       "      <td>1981.0</td>\n",
       "      <td>NaN</td>\n",
       "    </tr>\n",
       "    <tr>\n",
       "      <th>2078</th>\n",
       "      <td>5079</td>\n",
       "      <td>1971</td>\n",
       "      <td>Graduation</td>\n",
       "      <td>Married</td>\n",
       "      <td>NaN</td>\n",
       "      <td>1</td>\n",
       "      <td>1</td>\n",
       "      <td>2013-03-03</td>\n",
       "      <td>82</td>\n",
       "      <td>71</td>\n",
       "      <td>...</td>\n",
       "      <td>0</td>\n",
       "      <td>0</td>\n",
       "      <td>0</td>\n",
       "      <td>0</td>\n",
       "      <td>3</td>\n",
       "      <td>11</td>\n",
       "      <td>0</td>\n",
       "      <td>Married</td>\n",
       "      <td>1971.0</td>\n",
       "      <td>NaN</td>\n",
       "    </tr>\n",
       "    <tr>\n",
       "      <th>2079</th>\n",
       "      <td>10339</td>\n",
       "      <td>1954</td>\n",
       "      <td>Master</td>\n",
       "      <td>Together</td>\n",
       "      <td>NaN</td>\n",
       "      <td>0</td>\n",
       "      <td>1</td>\n",
       "      <td>2013-06-23</td>\n",
       "      <td>83</td>\n",
       "      <td>161</td>\n",
       "      <td>...</td>\n",
       "      <td>0</td>\n",
       "      <td>0</td>\n",
       "      <td>0</td>\n",
       "      <td>0</td>\n",
       "      <td>3</td>\n",
       "      <td>11</td>\n",
       "      <td>0</td>\n",
       "      <td>Together</td>\n",
       "      <td>1954.0</td>\n",
       "      <td>NaN</td>\n",
       "    </tr>\n",
       "    <tr>\n",
       "      <th>2081</th>\n",
       "      <td>3117</td>\n",
       "      <td>1955</td>\n",
       "      <td>Graduation</td>\n",
       "      <td>Single</td>\n",
       "      <td>NaN</td>\n",
       "      <td>0</td>\n",
       "      <td>1</td>\n",
       "      <td>2013-10-18</td>\n",
       "      <td>95</td>\n",
       "      <td>264</td>\n",
       "      <td>...</td>\n",
       "      <td>0</td>\n",
       "      <td>0</td>\n",
       "      <td>0</td>\n",
       "      <td>0</td>\n",
       "      <td>3</td>\n",
       "      <td>11</td>\n",
       "      <td>0</td>\n",
       "      <td>Single</td>\n",
       "      <td>1955.0</td>\n",
       "      <td>NaN</td>\n",
       "    </tr>\n",
       "    <tr>\n",
       "      <th>2084</th>\n",
       "      <td>5250</td>\n",
       "      <td>1943</td>\n",
       "      <td>Master</td>\n",
       "      <td>Widow</td>\n",
       "      <td>NaN</td>\n",
       "      <td>0</td>\n",
       "      <td>0</td>\n",
       "      <td>2013-10-30</td>\n",
       "      <td>75</td>\n",
       "      <td>532</td>\n",
       "      <td>...</td>\n",
       "      <td>1</td>\n",
       "      <td>0</td>\n",
       "      <td>0</td>\n",
       "      <td>0</td>\n",
       "      <td>3</td>\n",
       "      <td>11</td>\n",
       "      <td>1</td>\n",
       "      <td>Non Common</td>\n",
       "      <td>1943.0</td>\n",
       "      <td>NaN</td>\n",
       "    </tr>\n",
       "    <tr>\n",
       "      <th>2228</th>\n",
       "      <td>8720</td>\n",
       "      <td>1978</td>\n",
       "      <td>2n Cycle</td>\n",
       "      <td>Together</td>\n",
       "      <td>NaN</td>\n",
       "      <td>0</td>\n",
       "      <td>0</td>\n",
       "      <td>2012-12-08</td>\n",
       "      <td>53</td>\n",
       "      <td>32</td>\n",
       "      <td>...</td>\n",
       "      <td>0</td>\n",
       "      <td>0</td>\n",
       "      <td>0</td>\n",
       "      <td>0</td>\n",
       "      <td>3</td>\n",
       "      <td>11</td>\n",
       "      <td>0</td>\n",
       "      <td>Together</td>\n",
       "      <td>1978.0</td>\n",
       "      <td>NaN</td>\n",
       "    </tr>\n",
       "    <tr>\n",
       "      <th>2233</th>\n",
       "      <td>9432</td>\n",
       "      <td>1977</td>\n",
       "      <td>Graduation</td>\n",
       "      <td>Together</td>\n",
       "      <td>666666.0</td>\n",
       "      <td>1</td>\n",
       "      <td>0</td>\n",
       "      <td>2013-02-06</td>\n",
       "      <td>23</td>\n",
       "      <td>9</td>\n",
       "      <td>...</td>\n",
       "      <td>0</td>\n",
       "      <td>0</td>\n",
       "      <td>0</td>\n",
       "      <td>0</td>\n",
       "      <td>3</td>\n",
       "      <td>11</td>\n",
       "      <td>0</td>\n",
       "      <td>Together</td>\n",
       "      <td>1977.0</td>\n",
       "      <td>NaN</td>\n",
       "    </tr>\n",
       "  </tbody>\n",
       "</table>\n",
       "<p>28 rows × 32 columns</p>\n",
       "</div>"
      ],
      "text/plain": [
       "         ID  Year_Birth   Education Marital_Status    Income  Kidhome  \\\n",
       "10     1994        1983  Graduation        Married       NaN        1   \n",
       "27     5255        1986  Graduation         Single       NaN        1   \n",
       "43     7281        1959         PhD         Single       NaN        0   \n",
       "48     7244        1951  Graduation         Single       NaN        2   \n",
       "58     8557        1982  Graduation         Single       NaN        1   \n",
       "71    10629        1973    2n Cycle        Married       NaN        1   \n",
       "90     8996        1957         PhD        Married       NaN        2   \n",
       "91     9235        1957  Graduation         Single       NaN        1   \n",
       "92     5798        1973      Master       Together       NaN        0   \n",
       "128    8268        1961         PhD        Married       NaN        0   \n",
       "133    1295        1963  Graduation        Married       NaN        0   \n",
       "192    7829        1900    2n Cycle       Divorced   36640.0        1   \n",
       "239   11004        1893    2n Cycle         Single   60182.0        0   \n",
       "312    2437        1989  Graduation        Married       NaN        0   \n",
       "319    2863        1970  Graduation         Single       NaN        1   \n",
       "339    1150        1899         PhD       Together   83532.0        0   \n",
       "1379  10475        1970      Master       Together       NaN        0   \n",
       "1382   2902        1958  Graduation       Together       NaN        1   \n",
       "1383   4345        1964    2n Cycle         Single       NaN        1   \n",
       "1386   3769        1972         PhD       Together       NaN        1   \n",
       "2059   7187        1969      Master       Together       NaN        1   \n",
       "2061   1612        1981         PhD         Single       NaN        1   \n",
       "2078   5079        1971  Graduation        Married       NaN        1   \n",
       "2079  10339        1954      Master       Together       NaN        0   \n",
       "2081   3117        1955  Graduation         Single       NaN        0   \n",
       "2084   5250        1943      Master          Widow       NaN        0   \n",
       "2228   8720        1978    2n Cycle       Together       NaN        0   \n",
       "2233   9432        1977  Graduation       Together  666666.0        1   \n",
       "\n",
       "      Teenhome Dt_Customer  Recency  MntWines  ...  AcceptedCmp5  \\\n",
       "10           0  2013-11-15       11         5  ...             0   \n",
       "27           0  2013-02-20       19         5  ...             0   \n",
       "43           0  2013-05-11       80        81  ...             0   \n",
       "48           1  2014-01-01       96        48  ...             0   \n",
       "58           0  2013-06-17       57        11  ...             0   \n",
       "71           0  2012-09-14       25        25  ...             0   \n",
       "90           1  2012-11-19        4       230  ...             0   \n",
       "91           1  2014-05-27       45         7  ...             0   \n",
       "92           0  2013-11-23       87       445  ...             0   \n",
       "128          1  2013-11-07       23       352  ...             0   \n",
       "133          1  2013-11-08       96       231  ...             0   \n",
       "192          0  2013-09-26       99        15  ...             0   \n",
       "239          1  2014-05-17       23         8  ...             0   \n",
       "312          0  2013-03-06       69       861  ...             0   \n",
       "319          2  2013-08-23       67       738  ...             0   \n",
       "339          0  2013-09-26       36       755  ...             1   \n",
       "1379         1  2013-01-04       39       187  ...             0   \n",
       "1382         1  2012-03-09       87        19  ...             0   \n",
       "1383         1  2014-12-01       49         5  ...             0   \n",
       "1386         0  2014-02-03       17        25  ...             0   \n",
       "2059         1  2013-05-18       52       375  ...             0   \n",
       "2061         0  2013-05-31       82        23  ...             0   \n",
       "2078         1  2013-03-03       82        71  ...             0   \n",
       "2079         1  2013-06-23       83       161  ...             0   \n",
       "2081         1  2013-10-18       95       264  ...             0   \n",
       "2084         0  2013-10-30       75       532  ...             1   \n",
       "2228         0  2012-12-08       53        32  ...             0   \n",
       "2233         0  2013-02-06       23         9  ...             0   \n",
       "\n",
       "      AcceptedCmp1  AcceptedCmp2  Complain  Z_CostContact  Z_Revenue  \\\n",
       "10               0             0         0              3         11   \n",
       "27               0             0         0              3         11   \n",
       "43               0             0         0              3         11   \n",
       "48               0             0         0              3         11   \n",
       "58               0             0         0              3         11   \n",
       "71               0             0         0              3         11   \n",
       "90               0             0         0              3         11   \n",
       "91               0             0         0              3         11   \n",
       "92               0             0         0              3         11   \n",
       "128              0             0         0              3         11   \n",
       "133              0             0         0              3         11   \n",
       "192              0             0         1              3         11   \n",
       "239              0             0         0              3         11   \n",
       "312              1             0         0              3         11   \n",
       "319              1             0         0              3         11   \n",
       "339              0             0         0              3         11   \n",
       "1379             0             0         0              3         11   \n",
       "1382             0             0         0              3         11   \n",
       "1383             0             0         0              3         11   \n",
       "1386             0             0         0              3         11   \n",
       "2059             0             0         0              3         11   \n",
       "2061             0             0         0              3         11   \n",
       "2078             0             0         0              3         11   \n",
       "2079             0             0         0              3         11   \n",
       "2081             0             0         0              3         11   \n",
       "2084             0             0         0              3         11   \n",
       "2228             0             0         0              3         11   \n",
       "2233             0             0         0              3         11   \n",
       "\n",
       "      Response  Marital_Status_grouped  Year_Birth_Interpolated  \\\n",
       "10           0                 Married                   1983.0   \n",
       "27           0                  Single                   1986.0   \n",
       "43           0                  Single                   1959.0   \n",
       "48           0                  Single                   1951.0   \n",
       "58           0                  Single                   1982.0   \n",
       "71           0                 Married                   1973.0   \n",
       "90           0                 Married                   1957.0   \n",
       "91           0                  Single                   1957.0   \n",
       "92           0                Together                   1973.0   \n",
       "128          0                 Married                   1961.0   \n",
       "133          0                 Married                   1963.0   \n",
       "192          0                Divorced                      NaN   \n",
       "239          0                  Single                      NaN   \n",
       "312          0                 Married                   1989.0   \n",
       "319          0                  Single                   1970.0   \n",
       "339          0                Together                      NaN   \n",
       "1379         0                Together                   1970.0   \n",
       "1382         0                Together                   1958.0   \n",
       "1383         0                  Single                   1964.0   \n",
       "1386         0                Together                   1972.0   \n",
       "2059         0                Together                   1969.0   \n",
       "2061         0                  Single                   1981.0   \n",
       "2078         0                 Married                   1971.0   \n",
       "2079         0                Together                   1954.0   \n",
       "2081         0                  Single                   1955.0   \n",
       "2084         1              Non Common                   1943.0   \n",
       "2228         0                Together                   1978.0   \n",
       "2233         0                Together                   1977.0   \n",
       "\n",
       "      Income_Interpolated  \n",
       "10                    NaN  \n",
       "27                    NaN  \n",
       "43                    NaN  \n",
       "48                    NaN  \n",
       "58                    NaN  \n",
       "71                    NaN  \n",
       "90                    NaN  \n",
       "91                    NaN  \n",
       "92                    NaN  \n",
       "128                   NaN  \n",
       "133                   NaN  \n",
       "192               36640.0  \n",
       "239               60182.0  \n",
       "312                   NaN  \n",
       "319                   NaN  \n",
       "339               83532.0  \n",
       "1379                  NaN  \n",
       "1382                  NaN  \n",
       "1383                  NaN  \n",
       "1386                  NaN  \n",
       "2059                  NaN  \n",
       "2061                  NaN  \n",
       "2078                  NaN  \n",
       "2079                  NaN  \n",
       "2081                  NaN  \n",
       "2084                  NaN  \n",
       "2228                  NaN  \n",
       "2233                  NaN  \n",
       "\n",
       "[28 rows x 32 columns]"
      ]
     },
     "execution_count": 12,
     "metadata": {},
     "output_type": "execute_result"
    }
   ],
   "source": [
    "df.query(\n",
    "    \"Year_Birth_Interpolated != Year_Birth_Interpolated or Income_Interpolated != Income_Interpolated\"\n",
    ")"
   ]
  },
  {
   "cell_type": "markdown",
   "id": "db8ba88e",
   "metadata": {
    "papermill": {
     "duration": 0.03374,
     "end_time": "2021-12-02T05:41:27.051180",
     "exception": false,
     "start_time": "2021-12-02T05:41:27.017440",
     "status": "completed"
    },
    "tags": []
   },
   "source": [
    "For `Income` there are two positive candidates, `MntMeatProducts` and `NumCatalogPurchases`. In fact the correlations can be considered strong, the scatter plot shows a non linear relationship. We can try to fit a linear regressor and analysis or look for non linear method to solve this task.\n",
    "\n",
    "However, `Year_Birth` hasn't the same luck. But not everything is lost, we can try to plot all its relationships looking for one non linear, at least."
   ]
  },
  {
   "cell_type": "code",
   "execution_count": 13,
   "id": "d8137b46",
   "metadata": {
    "execution": {
     "iopub.execute_input": "2021-12-02T05:41:27.122836Z",
     "iopub.status.busy": "2021-12-02T05:41:27.122136Z",
     "iopub.status.idle": "2021-12-02T05:41:28.188504Z",
     "shell.execute_reply": "2021-12-02T05:41:28.187814Z",
     "shell.execute_reply.started": "2021-12-02T04:18:09.291066Z"
    },
    "papermill": {
     "duration": 1.103196,
     "end_time": "2021-12-02T05:41:28.188660",
     "exception": false,
     "start_time": "2021-12-02T05:41:27.085464",
     "status": "completed"
    },
    "tags": []
   },
   "outputs": [
    {
     "data": {
      "text/plain": [
       "<AxesSubplot:>"
      ]
     },
     "execution_count": 13,
     "metadata": {},
     "output_type": "execute_result"
    },
    {
     "data": {
      "image/png": "[encoded data removed]",
      "text/plain": [
       "<Figure size 720x720 with 2 Axes>"
      ]
     },
     "metadata": {
      "needs_background": "light"
     },
     "output_type": "display_data"
    }
   ],
   "source": [
    "_,ax = plt.subplots(figsize=(10,10))\n",
    "sns.heatmap(\n",
    "    df.query(\"Year_Birth_Interpolated == Year_Birth_Interpolated or Income_Interpolated == Income_Interpolated\").corr(),\n",
    "    ax=ax\n",
    ")"
   ]
  },
  {
   "cell_type": "markdown",
   "id": "666a4a0c",
   "metadata": {
    "papermill": {
     "duration": 0.036603,
     "end_time": "2021-12-02T05:41:28.262034",
     "exception": false,
     "start_time": "2021-12-02T05:41:28.225431",
     "status": "completed"
    },
    "tags": []
   },
   "source": [
    "### Interpolating `Income`\n",
    "\n",
    "As we can see at the scatter plots, `MntMeatProducts` and `NumCatalogPurchases` seem to have a non linear relationship with `Income`. And a really detailed one for `MntMeatProducts`. Starting from here, we are going to develop a model that reproduce this behaviour to do an more precise interpolation on `Income`."
   ]
  },
  {
   "cell_type": "code",
   "execution_count": 14,
   "id": "75d6a010",
   "metadata": {
    "execution": {
     "iopub.execute_input": "2021-12-02T05:41:28.347219Z",
     "iopub.status.busy": "2021-12-02T05:41:28.346475Z",
     "iopub.status.idle": "2021-12-02T05:41:28.788311Z",
     "shell.execute_reply": "2021-12-02T05:41:28.788825Z",
     "shell.execute_reply.started": "2021-12-02T04:18:10.375319Z"
    },
    "papermill": {
     "duration": 0.490454,
     "end_time": "2021-12-02T05:41:28.789013",
     "exception": false,
     "start_time": "2021-12-02T05:41:28.298559",
     "status": "completed"
    },
    "tags": []
   },
   "outputs": [
    {
     "data": {
      "text/plain": [
       "<AxesSubplot:xlabel='Income', ylabel='MntMeatProducts'>"
      ]
     },
     "execution_count": 14,
     "metadata": {},
     "output_type": "execute_result"
    },
    {
     "data": {
      "image/png": "[encoded data removed]",
      "text/plain": [
       "<Figure size 720x360 with 2 Axes>"
      ]
     },
     "metadata": {
      "needs_background": "light"
     },
     "output_type": "display_data"
    }
   ],
   "source": [
    "_,ax = plt.subplots(1,2,figsize=(10,5))\n",
    "df.query(\n",
    "    \"Year_Birth_Interpolated == Year_Birth_Interpolated and Income_Interpolated == Income_Interpolated\"\n",
    ").plot.scatter(\n",
    "    x='Income',\n",
    "    y='NumCatalogPurchases',\n",
    "    ax=ax[0]\n",
    ")\n",
    "\n",
    "df.query(\n",
    "    \"Year_Birth_Interpolated == Year_Birth_Interpolated and Income_Interpolated == Income_Interpolated\"\n",
    ").plot.scatter(\n",
    "    x='Income',\n",
    "    y='MntMeatProducts',\n",
    "    ax=ax[1]\n",
    ")"
   ]
  },
  {
   "cell_type": "markdown",
   "id": "d4f5c049",
   "metadata": {
    "papermill": {
     "duration": 0.038379,
     "end_time": "2021-12-02T05:41:28.865594",
     "exception": false,
     "start_time": "2021-12-02T05:41:28.827215",
     "status": "completed"
    },
    "tags": []
   },
   "source": [
    "To start modeling, I'll remove outlier from both `Income` and `MntMeatProducts` to let the model focuse on the really important things. An easy technique to remove outliers is using IQR.\n",
    "\n",
    "> Quick refresh: IQR is defined as $Q_{75}-Q_{25}$ Then removing outliers is as simple as filtering values lower than $Q_{75}+3*IQR$ and, in case you need it, values greater than $Q_{25}-3*IQR$"
   ]
  },
  {
   "cell_type": "code",
   "execution_count": 15,
   "id": "0646ca49",
   "metadata": {
    "execution": {
     "iopub.execute_input": "2021-12-02T05:41:28.954529Z",
     "iopub.status.busy": "2021-12-02T05:41:28.945713Z",
     "iopub.status.idle": "2021-12-02T05:41:28.965330Z",
     "shell.execute_reply": "2021-12-02T05:41:28.964691Z",
     "shell.execute_reply.started": "2021-12-02T05:09:50.244236Z"
    },
    "papermill": {
     "duration": 0.061608,
     "end_time": "2021-12-02T05:41:28.965503",
     "exception": false,
     "start_time": "2021-12-02T05:41:28.903895",
     "status": "completed"
    },
    "tags": []
   },
   "outputs": [],
   "source": [
    "q25 = df.query(\n",
    "    \"Year_Birth_Interpolated == Year_Birth_Interpolated and Income_Interpolated == Income_Interpolated\"\n",
    ").MntMeatProducts.quantile(q=0.25)\n",
    "q75 = df.query(\n",
    "    \"Year_Birth_Interpolated == Year_Birth_Interpolated and Income_Interpolated == Income_Interpolated\"\n",
    ").MntMeatProducts.quantile(q=0.75)\n",
    "iqr = q75 - q25\n",
    "meat_products_right_tail = q75+3*iqr"
   ]
  },
  {
   "cell_type": "code",
   "execution_count": 16,
   "id": "383c051d",
   "metadata": {
    "execution": {
     "iopub.execute_input": "2021-12-02T05:41:29.046915Z",
     "iopub.status.busy": "2021-12-02T05:41:29.046179Z",
     "iopub.status.idle": "2021-12-02T05:41:29.063437Z",
     "shell.execute_reply": "2021-12-02T05:41:29.062684Z",
     "shell.execute_reply.started": "2021-12-02T05:09:24.977966Z"
    },
    "papermill": {
     "duration": 0.059472,
     "end_time": "2021-12-02T05:41:29.063671",
     "exception": false,
     "start_time": "2021-12-02T05:41:29.004199",
     "status": "completed"
    },
    "tags": []
   },
   "outputs": [],
   "source": [
    "q25 = df.query(\n",
    "    \"Year_Birth_Interpolated == Year_Birth_Interpolated and Income_Interpolated == Income_Interpolated\"\n",
    ").Income.quantile(q=0.25)\n",
    "q75 = df.query(\n",
    "    \"Year_Birth_Interpolated == Year_Birth_Interpolated and Income_Interpolated == Income_Interpolated\"\n",
    ").Income.quantile(q=0.75)\n",
    "iqr = q75 - q25\n",
    "income_right_tail = q75+3*iqr"
   ]
  },
  {
   "cell_type": "code",
   "execution_count": 17,
   "id": "3d3556bb",
   "metadata": {
    "execution": {
     "iopub.execute_input": "2021-12-02T05:41:29.151049Z",
     "iopub.status.busy": "2021-12-02T05:41:29.149818Z",
     "iopub.status.idle": "2021-12-02T05:41:29.406031Z",
     "shell.execute_reply": "2021-12-02T05:41:29.405339Z",
     "shell.execute_reply.started": "2021-12-02T05:10:38.616183Z"
    },
    "papermill": {
     "duration": 0.304211,
     "end_time": "2021-12-02T05:41:29.406190",
     "exception": false,
     "start_time": "2021-12-02T05:41:29.101979",
     "status": "completed"
    },
    "tags": []
   },
   "outputs": [
    {
     "data": {
      "text/plain": [
       "<AxesSubplot:xlabel='MntMeatProducts', ylabel='Income'>"
      ]
     },
     "execution_count": 17,
     "metadata": {},
     "output_type": "execute_result"
    },
    {
     "data": {
      "image/png": "[encoded data removed]",
      "text/plain": [
       "<Figure size 432x288 with 1 Axes>"
      ]
     },
     "metadata": {
      "needs_background": "light"
     },
     "output_type": "display_data"
    }
   ],
   "source": [
    "# The plot shows less outliers of high value for MntMeatProducts\n",
    "df.query(\n",
    "    \"Year_Birth_Interpolated == Year_Birth_Interpolated and \\\n",
    "     Income_Interpolated == Income_Interpolated and \\\n",
    "     MntMeatProducts < @meat_products_right_tail and \\\n",
    "     Income < @income_right_tail\"\n",
    ").plot.scatter(\n",
    "    y='Income',\n",
    "    x='MntMeatProducts',\n",
    ")"
   ]
  },
  {
   "cell_type": "markdown",
   "id": "698a6417",
   "metadata": {
    "papermill": {
     "duration": 0.039024,
     "end_time": "2021-12-02T05:41:29.484821",
     "exception": false,
     "start_time": "2021-12-02T05:41:29.445797",
     "status": "completed"
    },
    "tags": []
   },
   "source": [
    "Once outliers are no more in the way, we can prepare an easy regression model using `statsmodels`. The way we are doing this is by creating non linear relationship apply a `log` operator over `MntMeatProducts`. How I know this? Well, take your data and try transformations that roughtly look like your desire plot. Surely their will be better ways to do that, and I'll love to read about it if you'd like to share it :)"
   ]
  },
  {
   "cell_type": "code",
   "execution_count": 18,
   "id": "b64f1567",
   "metadata": {
    "execution": {
     "iopub.execute_input": "2021-12-02T05:41:29.566804Z",
     "iopub.status.busy": "2021-12-02T05:41:29.566133Z",
     "iopub.status.idle": "2021-12-02T05:41:29.799500Z",
     "shell.execute_reply": "2021-12-02T05:41:29.800097Z",
     "shell.execute_reply.started": "2021-12-02T05:11:23.392971Z"
    },
    "papermill": {
     "duration": 0.276046,
     "end_time": "2021-12-02T05:41:29.800301",
     "exception": false,
     "start_time": "2021-12-02T05:41:29.524255",
     "status": "completed"
    },
    "tags": []
   },
   "outputs": [
    {
     "name": "stdout",
     "output_type": "stream",
     "text": [
      "                            OLS Regression Results                            \n",
      "==============================================================================\n",
      "Dep. Variable:                 Income   R-squared:                       0.600\n",
      "Model:                            OLS   Adj. R-squared:                  0.600\n",
      "Method:                 Least Squares   F-statistic:                     3270.\n",
      "Date:                Thu, 02 Dec 2021   Prob (F-statistic):               0.00\n",
      "Time:                        05:41:29   Log-Likelihood:                -23833.\n",
      "No. Observations:                2184   AIC:                         4.767e+04\n",
      "Df Residuals:                    2182   BIC:                         4.768e+04\n",
      "Df Model:                           1                                         \n",
      "Covariance Type:            nonrobust                                         \n",
      "===============================================================================================\n",
      "                                  coef    std err          t      P>|t|      [0.025      0.975]\n",
      "-----------------------------------------------------------------------------------------------\n",
      "Intercept                    8194.6187    808.629     10.134      0.000    6608.856    9780.381\n",
      "np.log(MntMeatProducts + 1)  1.057e+04    184.850     57.183      0.000    1.02e+04    1.09e+04\n",
      "==============================================================================\n",
      "Omnibus:                     1108.644   Durbin-Watson:                   1.991\n",
      "Prob(Omnibus):                  0.000   Jarque-Bera (JB):            30243.484\n",
      "Skew:                           1.828   Prob(JB):                         0.00\n",
      "Kurtosis:                      20.860   Cond. No.                         13.0\n",
      "==============================================================================\n",
      "\n",
      "Notes:\n",
      "[1] Standard Errors assume that the covariance matrix of the errors is correctly specified.\n"
     ]
    }
   ],
   "source": [
    "from statsmodels.formula.api import ols\n",
    "from statsmodels.stats.anova import anova_lm\n",
    "\n",
    "data_income_interpolation = data=df.query(\n",
    "    \"Year_Birth_Interpolated == Year_Birth_Interpolated and \\\n",
    "     Income_Interpolated == Income_Interpolated and \\\n",
    "     MntMeatProducts < @meat_products_right_tail and \\\n",
    "     Income < @income_right_tail\"\n",
    ")\n",
    "\n",
    "income_lm = ols(\n",
    "    \"Income ~ np.log(MntMeatProducts+1)\",\n",
    "    data=data_income_interpolation\n",
    ").fit()\n",
    "print(income_lm.summary())"
   ]
  },
  {
   "cell_type": "code",
   "execution_count": 19,
   "id": "55cb0334",
   "metadata": {
    "execution": {
     "iopub.execute_input": "2021-12-02T05:41:29.888616Z",
     "iopub.status.busy": "2021-12-02T05:41:29.887807Z",
     "iopub.status.idle": "2021-12-02T05:41:30.503461Z",
     "shell.execute_reply": "2021-12-02T05:41:30.502768Z",
     "shell.execute_reply.started": "2021-12-02T05:11:58.918899Z"
    },
    "papermill": {
     "duration": 0.662425,
     "end_time": "2021-12-02T05:41:30.503602",
     "exception": false,
     "start_time": "2021-12-02T05:41:29.841177",
     "status": "completed"
    },
    "tags": []
   },
   "outputs": [
    {
     "data": {
      "image/png": "[encoded data removed]",
      "text/plain": [
       "<Figure size 432x432 with 1 Axes>"
      ]
     },
     "metadata": {
      "needs_background": "light"
     },
     "output_type": "display_data"
    }
   ],
   "source": [
    "# Plot the fitted data against the regression line, under my perception it's not bad\n",
    "from statsmodels.graphics.api import interaction_plot, abline_plot\n",
    "\n",
    "fig, ax = plt.subplots(figsize=(6, 6))\n",
    "ax.scatter(\n",
    "    np.log(\n",
    "        data_income_interpolation.MntMeatProducts.values+1\n",
    "    ),\n",
    "    data_income_interpolation.Income.values\n",
    ")\n",
    "\n",
    "fig = abline_plot(\n",
    "    intercept=income_lm.params[\"Intercept\"],\n",
    "    slope=income_lm.params[\"np.log(MntMeatProducts + 1)\"],\n",
    "    ax=ax,\n",
    "    color='red'\n",
    ")"
   ]
  },
  {
   "cell_type": "code",
   "execution_count": 20,
   "id": "09ad135c",
   "metadata": {
    "execution": {
     "iopub.execute_input": "2021-12-02T05:41:30.592000Z",
     "iopub.status.busy": "2021-12-02T05:41:30.591215Z",
     "iopub.status.idle": "2021-12-02T05:41:30.706067Z",
     "shell.execute_reply": "2021-12-02T05:41:30.705459Z",
     "shell.execute_reply.started": "2021-12-02T05:13:27.097769Z"
    },
    "papermill": {
     "duration": 0.161566,
     "end_time": "2021-12-02T05:41:30.706210",
     "exception": false,
     "start_time": "2021-12-02T05:41:30.544644",
     "status": "completed"
    },
    "tags": []
   },
   "outputs": [
    {
     "data": {
      "text/plain": [
       "0.12247357838218578"
      ]
     },
     "execution_count": 20,
     "metadata": {},
     "output_type": "execute_result"
    }
   ],
   "source": [
    "# An important part is evaluation the model. I tried the `mean_squared_error` but it returns a very high value.\n",
    "# Then I though I need to compare apples with apples, so the mean square log error shows better results.\n",
    "from sklearn.metrics import mean_squared_log_error\n",
    "\n",
    "mean_squared_log_error(\n",
    "    data_income_interpolation.assign(\n",
    "        Income_Pred = income_lm.predict(df.MntMeatProducts).round(2)\n",
    "    ).Income,\n",
    "    data_income_interpolation.assign(\n",
    "        Income_Pred = income_lm.predict(df.MntMeatProducts).round(2)\n",
    "    ).Income_Pred\n",
    ")"
   ]
  },
  {
   "cell_type": "code",
   "execution_count": 21,
   "id": "f4e29c1c",
   "metadata": {
    "execution": {
     "iopub.execute_input": "2021-12-02T05:41:30.855749Z",
     "iopub.status.busy": "2021-12-02T05:41:30.854971Z",
     "iopub.status.idle": "2021-12-02T05:41:30.864285Z",
     "shell.execute_reply": "2021-12-02T05:41:30.864816Z",
     "shell.execute_reply.started": "2021-12-02T05:33:56.194616Z"
    },
    "papermill": {
     "duration": 0.057023,
     "end_time": "2021-12-02T05:41:30.865009",
     "exception": false,
     "start_time": "2021-12-02T05:41:30.807986",
     "status": "completed"
    },
    "tags": []
   },
   "outputs": [],
   "source": [
    "# Finally, we have Income interpolated with consistent data.\n",
    "df = df.assign(\n",
    "    Income_Pred = lambda df: income_lm.predict(df.MntMeatProducts).round(2),\n",
    "    Income_Interpolated = lambda df: df.Income_Interpolated.fillna(df.Income_Pred)\n",
    ").drop(\n",
    "    columns=\"Income_Pred\"\n",
    ")"
   ]
  },
  {
   "cell_type": "markdown",
   "id": "6a2f9668",
   "metadata": {
    "papermill": {
     "duration": 0.041016,
     "end_time": "2021-12-02T05:41:30.948524",
     "exception": false,
     "start_time": "2021-12-02T05:41:30.907508",
     "status": "completed"
    },
    "tags": []
   },
   "source": [
    "# Next Step\n",
    "\n",
    "### Interpolate `Year_Birth`\n",
    "\n",
    "This will be hard, because `Year_Birth` doesn't give any insight to somewhere to look at for a correlation."
   ]
  },
  {
   "cell_type": "code",
   "execution_count": 22,
   "id": "962c2ddf",
   "metadata": {
    "execution": {
     "iopub.execute_input": "2021-12-02T05:41:31.036861Z",
     "iopub.status.busy": "2021-12-02T05:41:31.036093Z",
     "iopub.status.idle": "2021-12-02T05:41:31.055559Z",
     "shell.execute_reply": "2021-12-02T05:41:31.056057Z",
     "shell.execute_reply.started": "2021-12-02T05:40:03.228986Z"
    },
    "papermill": {
     "duration": 0.065438,
     "end_time": "2021-12-02T05:41:31.056249",
     "exception": false,
     "start_time": "2021-12-02T05:41:30.990811",
     "status": "completed"
    },
    "tags": []
   },
   "outputs": [
    {
     "data": {
      "text/plain": [
       "Year_Birth                 1.000000\n",
       "Year_Birth_Interpolated    1.000000\n",
       "Kidhome                    0.230176\n",
       "NumWebVisitsMonth          0.121139\n",
       "AcceptedCmp3               0.061774\n",
       "Response                   0.021325\n",
       "AcceptedCmp5               0.007123\n",
       "ID                         0.000028\n",
       "AcceptedCmp1              -0.005930\n",
       "AcceptedCmp2              -0.006539\n",
       "MntFruits                 -0.017917\n",
       "MntSweetProducts          -0.018133\n",
       "Recency                   -0.019871\n",
       "Complain                  -0.030128\n",
       "MntMeatProducts           -0.030872\n",
       "MntFishProducts           -0.041625\n",
       "AcceptedCmp4              -0.060510\n",
       "NumDealsPurchases         -0.060846\n",
       "MntGoldProds              -0.061818\n",
       "NumCatalogPurchases       -0.121275\n",
       "NumStorePurchases         -0.128272\n",
       "NumWebPurchases           -0.145040\n",
       "MntWines                  -0.157773\n",
       "Income                    -0.161791\n",
       "Income_Interpolated       -0.196940\n",
       "Teenhome                  -0.352111\n",
       "Z_CostContact                   NaN\n",
       "Z_Revenue                       NaN\n",
       "Name: Year_Birth, dtype: float64"
      ]
     },
     "execution_count": 22,
     "metadata": {},
     "output_type": "execute_result"
    }
   ],
   "source": [
    "df.query(\n",
    "    \"Year_Birth_Interpolated == Year_Birth_Interpolated or Income_Interpolated == Income_Interpolated\"\n",
    ").corr().loc['Year_Birth'].sort_values(ascending=False)"
   ]
  }
 ],
 "metadata": {
  "kernelspec": {
   "display_name": "Python 3 (ipykernel)",
   "language": "python",
   "name": "python3"
  },
  "language_info": {
   "codemirror_mode": {
    "name": "ipython",
    "version": 3
   },
   "file_extension": ".py",
   "mimetype": "text/x-python",
   "name": "python",
   "nbconvert_exporter": "python",
   "pygments_lexer": "ipython3",
   "version": "3.9.7"
  },
  "papermill": {
   "default_parameters": {},
   "duration": 18.959452,
   "end_time": "2021-12-02T05:41:31.909413",
   "environment_variables": {},
   "exception": null,
   "input_path": "__notebook__.ipynb",
   "output_path": "__notebook__.ipynb",
   "parameters": {},
   "start_time": "2021-12-02T05:41:12.949961",
   "version": "2.3.3"
  },
  "widgets": {
   "application/vnd.jupyter.widget-state+json": {
    "state": {},
    "version_major": 2,
    "version_minor": 0
   }
  }
 },
 "nbformat": 4,
 "nbformat_minor": 5
}
